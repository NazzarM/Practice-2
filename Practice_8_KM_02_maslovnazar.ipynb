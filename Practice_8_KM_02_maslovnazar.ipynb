{
  "nbformat": 4,
  "nbformat_minor": 0,
  "metadata": {
    "colab": {
      "name": "Practice_7_KM-01_.ipynb",
      "provenance": [],
      "collapsed_sections": []
    },
    "kernelspec": {
      "name": "python3",
      "display_name": "Python 3.8.6 64-bit",
      "metadata": {
        "interpreter": {
          "hash": "664d59a29d41a43ab9c62833148ef7765d349e9460779980b0ee895850f695c4"
        }
      }
    }
  },
  "cells": [
    {
      "cell_type": "markdown",
      "metadata": {
        "id": "FMqboNwO4rVs"
      },
      "source": [
        "# **Курс \"Програмування на мові Python\"**\n",
        "\n",
        "##### Викладачі:\n",
        "##### Борисенко Павло Борисович\n",
        "##### Щьоголєв Максим Олегович\n"
      ]
    },
    {
      "cell_type": "markdown",
      "metadata": {
        "id": "A2T6MigL5Z06"
      },
      "source": [
        "## **Практичне зайняття №8**\n",
        "\n",
        "### Тема: \"Робота з функціями. Локальні та глобальні змінні\""
      ]
    },
    {
      "cell_type": "markdown",
      "metadata": {
        "id": "cfCdgK2zXm7e"
      },
      "source": [
        "### **Завдання 1 (3 бали)**\n",
        "\n",
        "**Підрахувати визначник матриці, використовуючи правило перестановок.**\n",
        "\n",
        "Функція random_matrix() призначена для створення квадратної матриці випадкових чисел. Її змінювати непотрібно.\n",
        "\n",
        "Приклад використання методу permutations() для створення списку перестановок також подається у комірці з кодом.\n",
        "\n",
        "1) Створити 3 функції: функцію створення списку перестановок, функцію підрахунку добутків та функцію підрахунку загальної суми.\n",
        "\n",
        "2) Кожна функція має супроводжуватись рядком документації, що буде коротко описувати її призначення.\n",
        "\n",
        "3) Розмірність квадратної матриці має вводитись користувачем з клавіатури. Підрахунки виконувати лише в тому разі, якщо користувач введе ціле додатне число.\n",
        "\n",
        "4) Загальний результат повинен підраховуватись за допомогою композиції функцій.\n",
        "\n",
        "За бажання можна перевірити правильність роботи програми за допомогою функції np.linalg.det(a)."
      ]
    },
    {
      "cell_type": "code",
      "metadata": {
        "id": "ifNX2M7LXm7f"
      },
      "source": [
        "import numpy as np\n",
        "import itertools\n",
        "\n",
        "def random_matrix(dim):\n",
        "    \"\"\"\n",
        "    The function generates dim x dim array of integers\n",
        "    between 0 and 10.\n",
        "    \"\"\"\n",
        "    matrix = np.random.randint(10, size = (dim, dim))\n",
        "    return matrix\n",
        "\n",
        "def matrix_permutate(elements, len):\n",
        "    global permutation\n",
        "    permutation = list(itertools.permutations(elements, len))\n",
        "    return permutation\n",
        "def count_composition(matrix, permutation):\n",
        "    global swaps\n",
        "    global comp\n",
        "    for i in range(0, len(permutation)):\n",
        "        for a in range(0, dimension):\n",
        "            for b in range(0, dimension):\n",
        "                if a < b:\n",
        "                    if int(permutation[i][b]) > int(permutation[i][b]):\n",
        "                        swaps += 1\n",
        "        if swaps%2==1:\n",
        "            one = -1\n",
        "        else:\n",
        "            one = 1\n",
        "        for s in range(dimension):\n",
        "                t = int(permutation[i][a])\n",
        "                one *= matrix[s][t]    \n",
        "        comp.append(one)\n",
        "\n",
        "def matrix_result():\n",
        "    res = count_composition(a, matrix_permutate(indexes, dimension))\n",
        "    return res\n",
        "while True:\n",
        "    try:\n",
        "        dimension = int(input(\"The dimension is: \"))\n",
        "        break\n",
        "    except ValueError:\n",
        "        print(\"Ivalid syntax\")\n",
        "comp = []\n",
        "indexes = []\n",
        "swaps = 0\n",
        "for i in range(1, dimension + 1):\n",
        "    indexes.append(i)\n",
        "a = random_matrix(dimension)\n",
        "\n",
        "print(matrix_result())"
      ],
      "execution_count": 1,
      "outputs": [
        {
          "output_type": "error",
          "ename": "SyntaxError",
          "evalue": "EOL while scanning string literal (<ipython-input-1-5aebdd9bee1e>, line 39)",
          "traceback": [
            "\u001b[1;36m  File \u001b[1;32m\"<ipython-input-1-5aebdd9bee1e>\"\u001b[1;36m, line \u001b[1;32m39\u001b[0m\n\u001b[1;33m    dimension = int(input(\"The dimension is))\u001b[0m\n\u001b[1;37m                                             ^\u001b[0m\n\u001b[1;31mSyntaxError\u001b[0m\u001b[1;31m:\u001b[0m EOL while scanning string literal\n"
          ]
        }
      ]
    },
    {
      "cell_type": "code",
      "execution_count": null,
      "metadata": {},
      "outputs": [],
      "source": []
    }
  ]
}