{
  "nbformat": 4,
  "nbformat_minor": 0,
  "metadata": {
    "colab": {
      "name": "Pranctice_3_KM-01_<name>.ipynb",
      "provenance": [],
      "collapsed_sections": []
    },
    "kernelspec": {
      "name": "Python 3.8.6 64-bit",
      "display_name": "Python 3.8.6 64-bit",
      "metadata": {
        "interpreter": {
          "hash": "664d59a29d41a43ab9c62833148ef7765d349e9460779980b0ee895850f695c4"
        }
      }
    }
  },
  "cells": [
    {
      "cell_type": "markdown",
      "metadata": {
        "id": "1bRxWHr5e8kt"
      },
      "source": [
        "# **Курс \"Програмування на мові Python\"**\n",
        "\n",
        "##### Викладачі:\n",
        "##### Борисенко Павло Борисович\n",
        "##### Щьоголєв Максим Олегович"
      ]
    },
    {
      "cell_type": "markdown",
      "metadata": {
        "id": "buZUwUgFe-kx"
      },
      "source": [
        "## **Практичне зайняття №3**\n",
        "### Тема: \"Перші програми на Python. Введення та виведення даних. Інструкція if\""
      ]
    },
    {
      "cell_type": "markdown",
      "metadata": {
        "id": "PUkxEn8EfAUe"
      },
      "source": [
        "### **Завдання 1 (1,5 бали)**\n",
        "\n"
      ]
    },
    {
      "cell_type": "markdown",
      "metadata": {
        "id": "M7jjwxAvfKa2"
      },
      "source": [
        "**Написати програму введення та виведення даних про одержувача листа (посилки) за стандартами Укрпошти.**\n",
        "\n",
        "1. Усі запити на введення даних повинні супроводжуватись відповідними підказками-поясненнями (бажано англійською мовою).\n",
        "\n",
        "2. Дані мають виводитись так, як показано нижче (з урахуванням кількості рядків та послідовності даних у кожному з них).\n",
        "\n",
        "3. Дані, виділені жирним шрифтом, повинні вводитись із клавіатури. Всього має бути 9 окремих команд введення даних\n",
        "\n",
        "4. Назви змінних повинні бути інформативними та оформленими відповідно до правил іменування змінних\n",
        "\n",
        "5. Додати 2 коментарі, що вказують на блоки введення та виведення даних.\n",
        "\n",
        "***Формат виведення даних:***\n",
        "\n",
        "(1) **Lucas** (2) **Diallo**\n",
        "\n",
        "(3) **3221234567**\n",
        "\n",
        "Str. (4) **Longue** (5) **3**, ap. (6) **5**, (7) **Bruxelles**\n",
        "\n",
        "(8) **1020**\n",
        "\n",
        "(9) **Belgium**"
      ]
    },
    {
      "cell_type": "code",
      "metadata": {
        "id": "hEJG5C3_fJk9"
      },
      "source": [
        "# Asking for info\n",
        "firstname = input(\"Your first name is: \")\n",
        "secondname = input(\"Your second name: \")\n",
        "cellphone = input(\"Your phone number: \")\n",
        "street = input(\"Enter your street: \")\n",
        "house_number = input(\"Enter your house number: \")\n",
        "flat_number = input(\"Enter your flat number: \") \n",
        "city = input(\"Enter your city/town: \")\n",
        "post_number = input(\"Enter your post number: \")\n",
        "country = input(\"Enter your country: \")\n",
        "# Showing result\n",
        "print(firstname + \" \" + secondname)\n",
        "print(cellphone)\n",
        "print(street + \", \" + house_number + \", \" + flat_number + \", \" + city)\n",
        "print(post_number)\n",
        "print(country)"
      ],
      "execution_count": 5,
      "outputs": [
        {
          "output_type": "error",
          "ename": "Error",
          "evalue": "Pip module debugpy is required for debugging cells. You will need to install it to debug cells.",
          "traceback": [
            "Error: Pip module debugpy is required for debugging cells. You will need to install it to debug cells.",
            "at P.parseConnectInfo (c:\\Users\\notic\\.vscode\\extensions\\ms-python.python-2020.9.112786\\out\\client\\extension.js:56:423980)",
            "at P.connectToLocal (c:\\Users\\notic\\.vscode\\extensions\\ms-python.python-2020.9.112786\\out\\client\\extension.js:56:424561)",
            "at async P.connect (c:\\Users\\notic\\.vscode\\extensions\\ms-python.python-2020.9.112786\\out\\client\\extension.js:56:420158)",
            "at async P.startDebugSession (c:\\Users\\notic\\.vscode\\extensions\\ms-python.python-2020.9.112786\\out\\client\\extension.js:56:419158)",
            "at async f.submitCode (c:\\Users\\notic\\.vscode\\extensions\\ms-python.python-2020.9.112786\\out\\client\\extension.js:32:87580)",
            "at async f.handleRunByLine (c:\\Users\\notic\\.vscode\\extensions\\ms-python.python-2020.9.112786\\out\\client\\extension.js:9:136667)"
          ]
        }
      ]
    },
    {
      "source": [
        "### **Завдання 2 (1,5 бали)**"
      ],
      "cell_type": "code",
      "metadata": {
        "id": "WmnpKrmPf689"
      },
      "execution_count": null,
      "outputs": []
    },
    {
      "cell_type": "markdown",
      "metadata": {
        "id": "4n4p_pz7gFKM"
      },
      "source": [
        "Таблиця містить магнітуду землетрусів за шкалою Ріхтера та дескриптори, що їй відповідають.\n",
        "\n",
        "Магнітуда | Дескриптор\n",
        "--- | ---\n",
        "Менше, ніж 2 | Micro\n",
        "Від 2 до менше ніж 3 | Very minor\n",
        "Від 3 до менше ніж 4 | Minor\n",
        "Від 4 до менше ніж 5 | Light\n",
        "Від 5 до менше ніж 6 | Moderate\n",
        "Від 6 до менше ніж 7 | Strong\n",
        "Від 7 до менше ніж 8 | Major\n",
        "Від 8 до менше ніж 10 | Great\n",
        "10 та більше | Meteoric\n",
        "\n",
        "Напишіть програму, яка буде зчитувати магнітуду, введену користувачем, та виводити відповідний дескриптор як частину змістовного повідомлення. Наприклад, якщо користувач вводить 5.5, ваша програма повинна показати, що землетрус з такою магнітудою є помірним (moderate)."
      ]
    },
    {
      "cell_type": "code",
      "metadata": {
        "id": "Nv66Jkkpf-sI"
      },
      "source": [
        "# Asking for a magnituda\n",
        "frequncy = float(input(\"Enter a magnituda: \"))\n",
        "# Showing result\n",
        "if frequncy < 2:\n",
        "    print(\"micro\")\n",
        "elif 2 <= frequncy < 3:\n",
        "    print(\"very minor\") \n",
        "elif 3 <= frequncy < 4:\n",
        "    print(\"Minor\")\n",
        "elif 4 <= frequncy < 5:\n",
        "    print(\"Light\")\n",
        "elif 5 <= frequncy < 6:\n",
        "    print(\"Moderate\")\n",
        "elif 6 <= frequncy < 7:\n",
        "    print(\"strong\")\n",
        "elif 7 <= frequncy < 8:\n",
        "    print(\"Major\")\n",
        "elif 8 <= frequncy < 10:\n",
        "    prnt(\"Great\")\n",
        "elif frequncy >= 10:\n",
        "    print(\"Meteoric\")"
      ],
      "execution_count": null,
      "outputs": []
    },
    {
      "cell_type": "markdown",
      "metadata": {
        "id": "X8fC_GM_nMRi"
      },
      "source": [
        "### **Завдання 3 (бонусне, 1 бал)**"
      ]
    },
    {
      "cell_type": "markdown",
      "metadata": {
        "id": "b593txPwotgN"
      },
      "source": [
        "Часто говорять, що один календарний рік еквівалентний 7 рокам для собаки. Однак таке просте перетворення не враховує того, що собаки досягають повноліття приблизно у 2 роки. Тому деякі люди вважать, що краще рахувати кожен з перших двох календарних років як 10,5 років для собаки, а потім рахувати кожен наступний календарний рік як 4 роки для собаки.\n",
        "\n",
        "Напишіть програму, яка конвертує календарні роки у \"собачі\", як було показано в попередньому абзаці. Переконайтесь, що ваша програма працює правильно, конвертуючи перші два календарні роки та всі подальші. Ваша програма також повинна виводити повідомлення про помилку, якщо користувач введе від'ємне число."
      ]
    },
    {
      "cell_type": "code",
      "metadata": {
        "id": "PA_E_H0Zosu0"
      },
      "source": [
        "# asking for dog's age\n",
        "dog_age = int(input(\"Your current dog age is: \"))\n",
        "#dog formulla 1\n",
        "dogformula = 21 + (4*(dog_age - 2))\n",
        "#if dog's age between 0 and 2\n",
        "if 0 < dog_age <= 2:\n",
        "    n = 10.5\n",
        "    print(n*dog_age)\n",
        "# printing error cause dog age can't be negative\n",
        "if dog_age <= 0:\n",
        "    print(\"Error! Dog's age can't be negative!\")\n",
        "# hotdog formula 2\n",
        "if dog_age > 2:\n",
        "    print(dogformula)\n"
      ],
      "execution_count": null,
      "outputs": []
    }
  ]
}