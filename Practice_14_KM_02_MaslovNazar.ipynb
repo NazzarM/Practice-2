{
  "nbformat": 4,
  "nbformat_minor": 0,
  "metadata": {
    "colab": {
      "name": "Practice_14_KM_01.ipynb",
      "provenance": [],
      "collapsed_sections": []
    },
    "kernelspec": {
      "name": "python3",
      "display_name": "Python 3"
    }
  },
  "cells": [
    {
      "cell_type": "markdown",
      "metadata": {
        "id": "FMqboNwO4rVs"
      },
      "source": [
        "# **Курс \"Програмування на мові Python\"**\n",
        "\n",
        "##### Викладачі:\n",
        "##### Борисенко Павло Борисович\n",
        "##### Щьоголєв Максим Олегович\n"
      ]
    },
    {
      "cell_type": "markdown",
      "metadata": {
        "id": "A2T6MigL5Z06"
      },
      "source": [
        "## **Практичне зайняття №14**\n",
        "\n",
        "### Тема: \"Робота з файлами\""
      ]
    },
    {
      "cell_type": "markdown",
      "metadata": {
        "id": "cfCdgK2zXm7e"
      },
      "source": [
        "### **Завдання 1 (1,5 бали)**\n",
        "\n",
        "У 1939 році друком вийшов роман американського письменика Ернеста Вінсента Райта \"Ґедсбі\". Особливу увагу публіки він здобув через те, що письменник жодного разу не використав у романі літеру \"e\" (роман складається з більше ніж 50,000 слів), яка є найбільш вживаною літерою в англійській мові.\n",
        "\n",
        "Порахуйте кількість входжень кожної літери у текст роману. Виведіть список літер англійського алфавіту, а також інформацію про те, скільки відсотків від усіх літер тексту складає кожна літера алфавіту.\n",
        "\n",
        "Зауваження:\n",
        "\n",
        "1. Програма має ігнорувати будь-які символи, окрім літер.\n",
        "\n",
        "2. Переведіть усі літери у верхній або у нижній регістр.\n",
        "\n",
        "3. Під час виведення відсортуйте літери у порядку зменшення їхнього відсотка. Літера \"e\" має стояти на останньому місці у цьому списку.\n",
        "\n",
        "4. Виведіть перші 5 та останні 5 літер відсортованого списку разом з відсотковими значеннями, що їм відповідають."
      ]
    },
    {
      "cell_type": "code",
      "metadata": {
        "tags": [
          "outputPrepend"
        ],
        "id": "u4-fHJJ6U462"
      },
      "source": [
        "import re\n",
        "ch_dict = {}\n",
        "lst_of_values = []\n",
        "lst_of_keys = []\n",
        "\n",
        "line_not_to_read = []\n",
        "a = (i for i in range(116,4605))\n",
        "for s in a:\n",
        "\tline_not_to_read.append(s)\n",
        "\n",
        "with open('gadsby.txt', 'r') as gadsby:\n",
        "    for position, line in enumerate(gadsby):\n",
        "    \tif position in line_not_to_read:\n",
        "            for character in line:\n",
        "                if character.isalpha():\n",
        "                    character = character.upper()\n",
        "                    if character not in ch_dict:\n",
        "                        ch_dict[character] = [1]\n",
        "                    else:\n",
        "                        ch_dict[character][0] += 1\n",
        "\n",
        "\n",
        "for value in ch_dict.values():\n",
        "    value = str(value)\n",
        "    value = re.sub(r'\\D',\"\",value)\n",
        "    lst_of_values.append(int(value))\n",
        "\n",
        "for key in ch_dict.keys():\n",
        "    lst_of_keys.append(key)\n",
        "\n",
        "summarise = sum(lst_of_values)\n",
        "gen = ((round(i/summarise*100, 3) for i in lst_of_values))\n",
        "zipped = list(zip(lst_of_keys, gen))\n",
        "zipped.sort(key = lambda i: i[1])\n",
        "\n",
        "count = 0\n",
        "while count < 5:\n",
        "    print(\"\\nFirst five unpopular characters:\\n\")\n",
        "    for i in zipped:\n",
        "        print(\"{}{}{}{}\".format(i[0],\" -> \",i[1],\"%\"))\n",
        "        count+=1\n",
        "        if count == 5:\n",
        "            break\n",
        "\n",
        "count_again = 0\n",
        "while count_again < 5:\n",
        "    print(\"\\nFirst five popular characters:\\n\")\n",
        "    for i in zipped[len(zipped)-5:len(zipped)]:\n",
        "        print(\"{}{}{}{}\".format(i[0],\" -> \",i[1],\"%\"))\n",
        "        count_again+=1\n",
        "        if count_again == 5:\n",
        "            break\n",
        "\n",
        "print(\"\\nAll characters:\\n\")\n",
        "print(ch_dict)"
      ],
      "execution_count": null,
      "outputs": []
    },
    {
      "cell_type": "markdown",
      "metadata": {
        "id": "A34oz70eU463"
      },
      "source": [
        "### **Завдання 2 (1,5 бали)**\n",
        "\n",
        "Створіть CSV-файл, що буде містити від 5 до 10 пісень (творів) вашого улюбленого музиканта. Назва файлу - ім'я музиканта (композитора) або назва гурту.\n",
        "\n",
        "1. Обов'язково додайте до файлу рядок з назвами двох колонок (Song, Year) або (Composition, Year).\n",
        "\n",
        "2. Після запису файлу роздрукуйте назву файлу та усі наявні у файлі рядки (включно із заголовками).\n",
        "\n",
        "3. Для запису та зчитування рядків скористайтесь функціями csv.DictWriter() та csv.DictReader()."
      ]
    },
    {
      "cell_type": "code",
      "metadata": {
        "id": "MEJIrG1GU463"
      },
      "source": [
        "import csv\n",
        "\n",
        "with open(\"Legend.csv\", \"w\") as LilPeep:\n",
        "\tcolumns = [\"Composition\", \"Year\"]\n",
        "\tsongs = csv.DictWriter(LilPeep, fieldnames=columns)\n",
        "\tsongs.writeheader()\n",
        "\tsongs.writerow({\"Composition\": \"Save That Shit\", \"Year\": \"2017\"})\n",
        "\tsongs.writerow({\"Composition\": \"Cobain\", \"Year\": \"2016\"})\n",
        "\tsongs.writerow({\"Composition\": \"Gym Class\", \"Year\": \"2016\"})\n",
        "\tsongs.writerow({\"Composition\": \"Star Shopping\", \"Year\": \"2017\"})\n",
        "\tsongs.writerow({\"Composition\": \"nose ring\", \"Year\": \"2016\"})\n",
        "\tsongs.writerow({\"Composition\": \"white tee\", \"Year\": \"2016\"})\n",
        "\tsongs.writerow({\"Composition\": \"White Wine\", \"Year\": \"2016\"})\n",
        "\tsongs.writerow({\"Composition\": \"hellboy\", \"Year\": \"2016\"})\n",
        "\tsongs.writerow({\"Composition\": \"OMFG\", \"Year\": \"2016\"})\n",
        "\tsongs.writerow({\"Composition\": \"Benz Truck\", \"Year\": \"2017\"})\n",
        "\tsongs.writerow({\"Composition\": \"Beter of (dying)\", \"Year\": \"2017\"})\n",
        "\tsongs.writerow({\"Composition\": \"witch blades\", \"Year\": \"2017\"})\n",
        "\tsongs.writerow({\"Composition\": \"Beamer boy\", \"Year\": \"2016\"})\n",
        "\n",
        "with open(\"Legend.csv\", \"r\") as LilPeep:\n",
        "\tsongs = csv.DictReader(LilPeep)\n",
        "\tprint(\"\\nCompositions - Years\")\n",
        "\tprint(\"*\"*20)\n",
        "\tfor row in songs:\n",
        "\t\tprint(row[\"Composition\"],\"-\", row[\"Year\"])\n",
        "\tprint(\"*\"*20)\n",
        "\tprint(\"\")\n",
        "\tprint(\"Legends never die\")"
      ],
      "execution_count": null,
      "outputs": []
    },
    {
      "cell_type": "markdown",
      "metadata": {
        "id": "Jb-eSBsWU464"
      },
      "source": [
        "### **Завдання 3 (бонусне, 1 бал)**\n",
        "\n",
        "COCO Dataset - набір фотографій та анотацій до них. Його дуже часто використовують для тренування класифікаторів, призначених для розпізнавання об'єктів та визначення ключових точок на зображеннях.\n",
        "\n",
        "Завантажте файли з описом фотографій COCO Dataset за посиланням: http://images.cocodataset.org/annotations/image_info_test2017.zip\n",
        "\n",
        "1. Відкрийте файл image_info_test-dev2017.json. Інформація про фотографії з бази COCO міститься у полі \"images\". Інформація про категорії, на які розділені всі фотографії, міститься у полі \"categories\".\n",
        "\n",
        "2. Визначте кількість фотографій, інформацію про які можна знайти у цьому файлі (кількість елементів, що відповідають ключу \"images\").\n",
        "\n",
        "3. Визначте кількість наявних категорій (кількість елементів, що відповідають ключу \"categories\").\n",
        "\n",
        "4. Виведіть посилання на фотографію 000000000001.jpg (\"coco_url\"), висоту цієї фотографії (\"height\"), ширину (\"width\") та її ідентифікатор (\"id\").\n",
        "\n",
        "5. Опис структури JSON-файлу для набору фотографій COCO можна знайти за посиланням: https://cocodataset.org/#format-data\n",
        "\n",
        "6. Щоб перевірити правильність результатів, у VS Code встановіть розширення JSON та відкрийте файл image_info_test-dev2017.json. Розширення автоматично визначає кількість елементів у кожному полі."
      ]
    },
    {
      "cell_type": "code",
      "metadata": {
        "id": "74C6WKB_U464"
      },
      "source": [],
      "execution_count": null,
      "outputs": []
    }
  ]
}