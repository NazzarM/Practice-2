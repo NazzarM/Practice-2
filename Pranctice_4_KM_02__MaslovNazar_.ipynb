{
  "nbformat": 4,
  "nbformat_minor": 0,
  "metadata": {
    "colab": {
      "name": "Pranctice_3_KM-01_<name>.ipynb",
      "provenance": [],
      "collapsed_sections": []
    },
    "kernelspec": {
      "name": "Python 3.8.6 64-bit",
      "display_name": "Python 3.8.6 64-bit",
      "metadata": {
        "interpreter": {
          "hash": "664d59a29d41a43ab9c62833148ef7765d349e9460779980b0ee895850f695c4"
        }
      }
    }
  },
  "cells": [
    {
      "cell_type": "markdown",
      "metadata": {
        "id": "1bRxWHr5e8kt"
      },
      "source": [
        "# **Курс \"Програмування на мові Python\"**\n",
        "\n",
        "##### Викладачі:\n",
        "##### Борисенко Павло Борисович\n",
        "##### Щьоголєв Максим Олегович"
      ]
    },
    {
      "cell_type": "markdown",
      "metadata": {
        "id": "buZUwUgFe-kx"
      },
      "source": [
        "## **Практичне зайняття №4**\n",
        "### Тема: \"Цикли. Робота зі списками\""
      ]
    },
    {
      "cell_type": "markdown",
      "metadata": {
        "id": "PUkxEn8EfAUe"
      },
      "source": [
        "### **Завдання 1 (1,5 бали)**\n",
        "\n"
      ]
    },
    {
      "source": [
        "Продавець роздрібного товару влаштовує розпродаж. Для всіх товарів знижка однакова - 60%. Щоб вивісити нові цінники, продавець хоче скласти таблицю, в якій для кожного товару буде підрахована його нова вартість та сума знижки.\n",
        "\n",
        "Написати програму, яка буде генерувати таку таблицю. Вартість одиниць товарів до розпродажу подано у списку products_list. \n",
        "\n",
        "1. Для підрахунку невідомих значень та їх виведення повинен використовуватись цикл.\n",
        "\n",
        "2. Вартість з урахуванням знижки та суми знижок для кожного товару повинні зберігатись у двох окремих списках. Порядок товарів у нових списках повинен бути такий самий, як і в списку products_list.\n",
        "\n",
        "3. Кожне підраховане числове значення має бути округлене до сотих. Для цього слід використати функцію round(). Приклад застосування цієї функції:\n",
        "\n",
        "```\n",
        "value_new = round(2.3741, 2)\n",
        "print(value_new)\n",
        "```\n",
        "\n",
        "4. Дані повинні виводитись у вигляді:\n",
        "\n",
        "**Discount table:**\n",
        "\n",
        "**29.25 11.7 17.55**\n",
        "\n",
        "**48.99 19.6 29.39**\n",
        "\n",
        "**...**\n",
        "\n",
        "\n",
        "products_list = [[29.25, 48.99, 99.98, 124.65, 214.30, 543.90, 799.85]]"
      ],
      "cell_type": "markdown",
      "metadata": {}
    },
    {
      "cell_type": "code",
      "execution_count": null,
      "metadata": {},
      "outputs": [],
      "source": [
        "#Given list\n",
        "products_list = [29.25, 48.99, 99.98, 124.65, 214.30, 543.90, 799.85]\n",
        "\n",
        "#Creating new lists where we use discounts for each element in products_list\n",
        "#Function round() is used to make list easy to read\n",
        "discouted_produts_list = [round(i*2/5,2) for i in products_list]\n",
        "discout_of_produts_list = [round(a*3/5,2) for a in products_list]\n",
        "\n",
        "#Here's the loop where lists join each other and then shows by function print()\n",
        "print(\"Discount table:\")\n",
        "\n",
        "for k in range(len(products_list) ):\n",
        "\tprint()\n",
        "\tprint(str(products_list[k]) + ' - price before disount, ' + str(discouted_produts_list[k]) + ' - price after discount, ' + str(discout_of_produts_list[k]) + ' - money you saved.')"
      ]
    },
    {
      "source": [
        "### **Завдання 2 (1,5 бали)**"
      ],
      "cell_type": "markdown",
      "metadata": {}
    },
    {
      "cell_type": "markdown",
      "metadata": {
        "id": "4n4p_pz7gFKM"
      },
      "source": [
        "Перелічуючи деякі предмети у тексті, ми ставимо між ними коми. В англійській мові слово and зазвичай ставлять між останнім та передостаннім словом у переліку (за виключенням випадку, коли у списку всього одне слово). Також в англійській мові прийнято ставити кому перед and (оксфордська кома), якщо в переліку більше двох найменувань. Розглянемо 4 приклади:\n",
        "\n",
        "**apples**\n",
        "\n",
        "**apples and oranges**\n",
        "\n",
        "**apples, oranges, and bananas**\n",
        "\n",
        "**apples, oranges, bananas, and lemons**\n",
        "\n",
        "Напишіть програму, яка:\n",
        "\n",
        "1. отримує на вхід перелік деяких предметів, які користувач вводить з клавіатури, та записує їх у список у вигляді окремих елементів;\n",
        "\n",
        "2. виводить ці предмети у тій самій послідовності, в якій вони були введені, розставляючи коми та слово and так, як показано у прикладі."
      ]
    },
    {
      "cell_type": "code",
      "metadata": {
        "id": "Nv66Jkkpf-sI"
      },
      "source": [
        "#Creating an empty list\n",
        "my_list = []\n",
        "#While loop where user types fruits. If user wants to end session he should type Exit or exit.\n",
        "def my_func():\n",
        "\twhile True:\n",
        "\t\tfruits = str(input(\"Write down your favourite fruits(To exit type 'Exit'): \"))\n",
        "\t\tmy_list.append(fruits)\n",
        "\t\tif fruits == 'exit':\n",
        "\t\t\tmy_list.remove('exit')\n",
        "\t\t\tbreak\n",
        "\t\telif fruits == 'Exit':\n",
        "\t\t\tmy_list.remove('Exit')\n",
        "\t\t\tbreak\n",
        "\tmy_func2()\n",
        "\n",
        "\n",
        "#Showing result by function .format()\n",
        "#If user types Exit in the beginning, the programm asks him for retry\n",
        "def my_func2():\n",
        "\tfor i in range(1):\n",
        "\t\ttry:\n",
        "\t\t\tif len(my_list) == 1:\n",
        "\t\t\t\tprint(*my_list)\n",
        "\t\t\t\tprint(\"Great! I like them too!\")\n",
        "\t\t\t\tbreak\n",
        "\t\t\telse:\n",
        "\t\t\t\tprint('{}{}{}'.format(\", \".join(my_list[0:-1]),' and ', my_list[-1]))\n",
        "\t\t\t\tprint(\"Great! I like them too!\")\n",
        "\t\t\t\tbreak\n",
        "\t\texcept IndexError:\n",
        "\t\t\tprint(\"Error! You haven't writen your favourite fruits. Wana try again?(Yes or No)\")\n",
        "\t\t\ta = input()\n",
        "\t\t\tif a == \"Yes\":\n",
        "\t\t\t\tmy_func()\n",
        "\t\t\telif a == \"No\":\n",
        "\t\t\t\tbreak\n",
        "\t\t\telse:\n",
        "\t\t\t\tprint(\"You are so boring :/\")\n",
        "\n",
        "my_func()\n"
      ],
      "execution_count": 1,
      "outputs": [
        {
          "output_type": "stream",
          "name": "stdout",
          "text": [
            " and \nGreat! I like them too!\n"
          ]
        }
      ]
    },
    {
      "cell_type": "code",
      "execution_count": null,
      "metadata": {},
      "outputs": [],
      "source": []
    }
  ]
}