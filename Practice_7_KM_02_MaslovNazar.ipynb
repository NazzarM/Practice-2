{
  "nbformat": 4,
  "nbformat_minor": 0,
  "metadata": {
    "colab": {
      "name": "Practice_7_KM-01_.ipynb",
      "provenance": [],
      "collapsed_sections": []
    },
    "kernelspec": {
      "name": "Python 3.8.6 64-bit",
      "display_name": "Python 3.8.6 64-bit",
      "metadata": {
        "interpreter": {
          "hash": "664d59a29d41a43ab9c62833148ef7765d349e9460779980b0ee895850f695c4"
        }
      }
    }
  },
  "cells": [
    {
      "cell_type": "markdown",
      "metadata": {
        "id": "FMqboNwO4rVs"
      },
      "source": [
        "# **Курс \"Програмування на мові Python\"**\n",
        "\n",
        "##### Викладачі:\n",
        "##### Борисенко Павло Борисович\n",
        "##### Щьоголєв Максим Олегович\n"
      ]
    },
    {
      "cell_type": "markdown",
      "metadata": {
        "id": "A2T6MigL5Z06"
      },
      "source": [
        "## **Практичне зайняття №7**\n",
        "\n",
        "### Тема: \"Перевірка даних. Робота з виключеннями. Регулярні вирази\""
      ]
    },
    {
      "cell_type": "markdown",
      "metadata": {
        "id": "cfCdgK2zXm7e"
      },
      "source": [
        "### **Завдання 1 (1,5 бали)**\n",
        "\n",
        "Переробити завдання №1 практичної роботи №6 з використанням регулярних виразів.\n",
        "\n",
        "1. Створити шаблон регулярного виразу.\n",
        "\n",
        "2. За допомогою функції compile() створити об'єкт регулярного виразу.\n",
        "\n",
        "3. Всі інші вимоги залишаються такими ж, як і в оригінальному завданні."
      ]
    },
    {
      "cell_type": "code",
      "metadata": {
        "id": "ifNX2M7LXm7f"
      },
      "source": [
        "import re\n",
        "\n",
        "pose_estimation = \"[BodyPart:0-(0.55, 0.17) score=0.81 BodyPart:1-(0.49, 0.27) score=0.85 BodyPart:2-(0.41, 0.26) score=0.67 BodyPart:3-(0.33, 0.37) score=0.72 BodyPart:4-(0.36, 0.48) score=0.78 BodyPart:5-(0.58, 0.27) score=0.81 BodyPart:6-(0.65, 0.38) score=0.88 BodyPart:7-(0.62, 0.48) score=0.86 BodyPart:8-(0.43, 0.48) score=0.60 BodyPart:9-(0.43, 0.66) score=0.67 BodyPart:10-(0.53, 0.79) score=0.56 BodyPart:11-(0.53, 0.48) score=0.56 BodyPart:12-(0.59, 0.66) score=0.75 BodyPart:13-(0.49, 0.80) score=0.50 BodyPart:14-(0.54, 0.15) score=0.73 BodyPart:15-(0.56, 0.15) score=0.85 BodyPart:16-(0.48, 0.16) score=0.81 BodyPart:17-(0.83, 0.18) score=0.79]\"\n",
        "a = '(\\d[.]\\d+, \\d[.]\\d+)'\n",
        "b =  \"score=(\\d[.]\\d+)\"\n",
        "\n",
        "pattern = re.compile(a)\n",
        "pattern2 = re.compile(b)\n",
        "\n",
        "parts = str(re.findall(pattern, pose_estimation))\n",
        "scores = str(re.findall(pattern2, pose_estimation))\n",
        "parts = re.sub(\"'\",\"\",parts)\n",
        "scores = re.sub(\"'\",\"\",scores)\n",
        "\n",
        "print(\"Parts = \" + parts)\n",
        "print(\"Scores = \" + scores)"
      ],
      "execution_count": 1,
      "outputs": [
        {
          "output_type": "stream",
          "name": "stdout",
          "text": [
            "Parts = [0.55, 0.17, 0.49, 0.27, 0.41, 0.26, 0.33, 0.37, 0.36, 0.48, 0.58, 0.27, 0.65, 0.38, 0.62, 0.48, 0.43, 0.48, 0.43, 0.66, 0.53, 0.79, 0.53, 0.48, 0.59, 0.66, 0.49, 0.80, 0.54, 0.15, 0.56, 0.15, 0.48, 0.16, 0.83, 0.18]\nScores = [0.81, 0.85, 0.67, 0.72, 0.78, 0.81, 0.88, 0.86, 0.60, 0.67, 0.56, 0.56, 0.75, 0.50, 0.73, 0.85, 0.81, 0.79]\n"
          ]
        }
      ]
    },
    {
      "cell_type": "markdown",
      "metadata": {
        "id": "M1Sg0vXJXm7n"
      },
      "source": [
        "### **Завдання 2 (1,5 бали)**\n",
        "\n",
        "Написати програму підрахунку коренів квадратного рівняння без попередніх перевірок.\n",
        "\n",
        "1. Користувач має вводити коефіцієнти a, b та c з клавіатури.\n",
        "\n",
        "2. Програма має обробляти помилки ділення на 0, кореня від'ємного числа та інші, а також виводити відповідні повідомлення у разі виникнення таких помилок.\n",
        "\n",
        "3. Якщо рівняння не має коренів, программа має генерувати помилку за допомогою ключового слова raise, а потім обробляти її.\n",
        "\n",
        "4. Правильно написана програма при виникненні різних помилок має виводити текст помилки, а також різні повідомлення про те, в чому суть цих помилок. Необроблених помилок бути не повинно."
      ]
    },
    {
      "cell_type": "code",
      "metadata": {
        "id": "co7fcAuvXm7o"
      },
      "source": [
        "import math\n",
        "\n",
        "while True:\n",
        "\ttry:\n",
        "\t\tn1 = int(input(\"Number 1(a): \"))\n",
        "\t\tbreak\n",
        "\texcept ValueError:\n",
        "\t\tprint(\"Invalid syntax. Type digits only. Retrying///\")\n",
        "while True:\n",
        "\ttry:\n",
        "\t\tn2 = int(input(\"Number 2(b): \"))\n",
        "\t\tbreak\n",
        "\texcept ValueError:\n",
        "\t\tprint(\"Invalid syntax. Type digits only. Retrying///\")\n",
        "while True:\n",
        "\ttry:\n",
        "\t\tn3 = int(input(\"Number 3(c): \"))\n",
        "\t\tbreak\n",
        "\texcept ValueError:\n",
        "\t\tprint(\"Invalid syntax. Type digits only. Retrying///\")\n",
        "\n",
        "formula = n2**2 - 4*n1*n3\n",
        "\n",
        "try:\n",
        "\tif formula <= 0:\n",
        "\t\traise ValueError(\"With Numbers you typed the discriminant is negative. Try another variations.\")\n",
        "except ValueError as ve:\n",
        "\tprint(ve)\n",
        "else:\n",
        "\ttry:\n",
        "\t\tprint(\"The discriminant is: \",formula)\n",
        "\t\td1 = (-n2 - math.sqrt(formula))/2*n1\n",
        "\t\td2 = (-n2 + math.sqrt(formula))/2*n1\n",
        "\t\tprint(\"All good! The result is:\",d1,d2, sep=\" \")\n",
        "\texcept ZeroDivisionError:\n",
        "\t\tprint(\"It Isn't possible to divide by zero\")"
      ],
      "execution_count": 2,
      "outputs": [
        {
          "output_type": "stream",
          "name": "stdout",
          "text": [
            "The discriminant is:  1\nAll good! The result is: 1.0 2.0\n"
          ]
        }
      ]
    },
    {
      "cell_type": "code",
      "execution_count": null,
      "metadata": {},
      "outputs": [],
      "source": []
    }
  ]
}